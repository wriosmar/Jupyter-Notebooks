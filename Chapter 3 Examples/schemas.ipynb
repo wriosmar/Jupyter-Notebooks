{
 "cells": [
  {
   "cell_type": "code",
   "execution_count": null,
   "metadata": {},
   "outputs": [],
   "source": [
    "from pyspark.sql import SparkSession\n",
    "\n",
    "#Define the schema for the dataset using DDL (Data Definition Language)\n",
    "schema = \"Id INT, First STRING, Last STRING, URL STRING, Published STRING, Hits INT, Campaigns ARRAY<STRING>\""
   ]
  },
  {
   "cell_type": "code",
   "execution_count": null,
   "metadata": {},
   "outputs": [],
   "source": [
    "# Create the static data\n",
    "data = [[1, \"Jules\", \"Damji\", \"https://tinyurl.1 \", \"1/4/2016\", 4535, [\"twitter\", \"LinkedIn\"]],\n",
    "        [2, \"Brooke\", \"Wenig\", \"https://tinyurl.2 \", \"5/5/2018\", 8908, [\"twitter\", \"LinkedIn\"]],\n",
    "        [3, \"Denny\", \"Lee\", \"https://tinyurl.3 \", \"6/7/2019\", 7659, [\"web\", \"twitter\", \"FB\", \"LinkedIn\"]],\n",
    "        [4, \"Tathagata\", \"Das\", \"https://tinyurl.4 \", \"5/12/2018\", 10568, [\"twitter\", \"FB\"]],\n",
    "        [5, \"Matei\",\"Zaharia\", \"https://tinyurl.5 \", \"5/14/2014\", 40578, [\"web\", \"twitter\", \"FB\", \"LinkedIn\"]],\n",
    "        [6, \"Reynold\", \"Xin\", \"https://tinyurl.6 \", \"3/2/2015\", 25568, [\"twitter\", \"LinkedIn\"]]]"
   ]
  },
  {
   "cell_type": "code",
   "execution_count": null,
   "metadata": {},
   "outputs": [
    {
     "name": "stderr",
     "output_type": "stream",
     "text": [
      "Setting default log level to \"WARN\".\n",
      "To adjust logging level use sc.setLogLevel(newLevel). For SparkR, use setLogLevel(newLevel).\n",
      "25/03/20 10:38:43 WARN NativeCodeLoader: Unable to load native-hadoop library for your platform... using builtin-java classes where applicable\n"
     ]
    },
    {
     "name": "stdout",
     "output_type": "stream",
     "text": [
      "+---+---------+-------+------------------+---------+-----+--------------------+\n",
      "| Id|    First|   Last|               URL|Published| Hits|           Campaigns|\n",
      "+---+---------+-------+------------------+---------+-----+--------------------+\n",
      "|  1|    Jules|  Damji|https://tinyurl.1 | 1/4/2016| 4535| [twitter, LinkedIn]|\n",
      "|  2|   Brooke|  Wenig|https://tinyurl.2 | 5/5/2018| 8908| [twitter, LinkedIn]|\n",
      "|  3|    Denny|    Lee|https://tinyurl.3 | 6/7/2019| 7659|[web, twitter, FB...|\n",
      "|  4|Tathagata|    Das|https://tinyurl.4 |5/12/2018|10568|       [twitter, FB]|\n",
      "|  5|    Matei|Zaharia|https://tinyurl.5 |5/14/2014|40578|[web, twitter, FB...|\n",
      "|  6|  Reynold|    Xin|https://tinyurl.6 | 3/2/2015|25568| [twitter, LinkedIn]|\n",
      "+---+---------+-------+------------------+---------+-----+--------------------+\n",
      "\n",
      "root\n",
      " |-- Id: integer (nullable = true)\n",
      " |-- First: string (nullable = true)\n",
      " |-- Last: string (nullable = true)\n",
      " |-- URL: string (nullable = true)\n",
      " |-- Published: string (nullable = true)\n",
      " |-- Hits: integer (nullable = true)\n",
      " |-- Campaigns: array (nullable = true)\n",
      " |    |-- element: string (containsNull = true)\n",
      "\n",
      "None\n"
     ]
    }
   ],
   "source": [
    "# Create a Spark session\n",
    "spark = (SparkSession\n",
    "         .builder\n",
    "         .appName(\"Spark Schema Example\")\n",
    "         .config(\"spark.driver.bindAddress\", \"127.0.0.1\")\n",
    "         .getOrCreate())\n",
    "\n",
    "# Create a DataFrame using the data and schema\n",
    "blogs_df = spark.createDataFrame(data, schema)\n",
    "\n",
    "# Show the DataFrame\n",
    "blogs_df.show()\n",
    "\n",
    "# Print the schema of the DataFrame\n",
    "print(blogs_df.printSchema())"
   ]
  },
  {
   "cell_type": "code",
   "execution_count": null,
   "metadata": {},
   "outputs": [],
   "source": [
    "# Stop the Spark session\n",
    "spark.stop()"
   ]
  },
  {
   "cell_type": "code",
   "execution_count": null,
   "metadata": {},
   "outputs": [],
   "source": []
  }
 ],
 "metadata": {
  "kernelspec": {
   "display_name": "base",
   "language": "python",
   "name": "python3"
  },
  "language_info": {
   "codemirror_mode": {
    "name": "ipython",
    "version": 3
   },
   "file_extension": ".py",
   "mimetype": "text/x-python",
   "name": "python",
   "nbconvert_exporter": "python",
   "pygments_lexer": "ipython3",
   "version": "3.11.5"
  }
 },
 "nbformat": 4,
 "nbformat_minor": 2
}
